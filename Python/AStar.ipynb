{
 "cells": [
  {
   "cell_type": "markdown",
   "id": "055e4474",
   "metadata": {},
   "source": [
    "# Testeo de Archivos importados"
   ]
  },
  {
   "cell_type": "code",
   "execution_count": 7,
   "id": "4ae8c33f",
   "metadata": {},
   "outputs": [
    {
     "name": "stdout",
     "output_type": "stream",
     "text": [
      "{\"testingEnum\":\"largo\",\"testingfloat\":-0.1,\"testingDateTimeClass\":{\"year\":0,\"month\":69,\"day\":0},\"testingTimeSpanClass\":{\"hours\":0,\"minutes\":549,\"seconds\":0,\"TotalMilliseconds\":32940000.0,\"TotalMinutes\":549.0,\"TotalSeconds\":32940.0},\"name\":\"Test1\",\"hideFlags\":0}\n"
     ]
    }
   ],
   "source": [
    "#Leer contenido de un solo archivo\n",
    "with open(\"SOToFile/testing/xd.txt\", \"r\") as file:\n",
    "    content = file.read()\n",
    "    print(content)\n"
   ]
  },
  {
   "cell_type": "code",
   "execution_count": 11,
   "id": "821dc526",
   "metadata": {},
   "outputs": [
    {
     "name": "stdout",
     "output_type": "stream",
     "text": [
      "{\"testingEnum\":\"largo\",\"testingfloat\":-0.1,\"testingDateTimeClass\":{\"year\":0,\"month\":69,\"day\":0},\"testingTimeSpanClass\":{\"hours\":0,\"minutes\":549,\"seconds\":0,\"TotalMilliseconds\":32940000.0,\"TotalMinutes\":549.0,\"TotalSeconds\":32940.0},\"name\":\"Test1\",\"hideFlags\":0}\n",
      "{\"testingEnum\":\"largo\",\"testingfloat\":-0.1,\"testingDateTimeClass\":{\"year\":0,\"month\":69,\"day\":0},\"testingTimeSpanClass\":{\"hours\":0,\"minutes\":549,\"seconds\":0,\"TotalMilliseconds\":32940000.0,\"TotalMinutes\":549.0,\"TotalSeconds\":32940.0},\"name\":\"Test1\",\"hideFlags\":0}\n",
      "{\"testingEnum\":\"xd\",\"testingfloat\":0.56,\"testingDateTimeClass\":{\"year\":1,\"month\":5,\"day\":0},\"testingTimeSpanClass\":{\"hours\":13,\"minutes\":0,\"seconds\":5,\"TotalMilliseconds\":46805000.0,\"TotalMinutes\":780.08333333333337,\"TotalSeconds\":46800.0},\"name\":\"Test2\",\"hideFlags\":0}\n"
     ]
    }
   ],
   "source": [
    "#Leer contenido de varios archivos en un directorio\n",
    "from os import listdir\n",
    "from os.path import isfile, join\n",
    "path = \"SOToFile/testing/\"\n",
    "onlyfiles = [f for f in listdir(path) if isfile(join(path, f))]\n",
    "for filename in onlyfiles:\n",
    "    with open(path+filename, \"r\") as file:\n",
    "        content = file.read()\n",
    "        print(content)"
   ]
  },
  {
   "cell_type": "markdown",
   "id": "9118f777",
   "metadata": {},
   "source": [
    "# Testeo de Json"
   ]
  },
  {
   "cell_type": "markdown",
   "id": "a990b52c",
   "metadata": {},
   "source": [
    "## Clases"
   ]
  },
  {
   "cell_type": "code",
   "execution_count": 89,
   "id": "1ec9f5d7",
   "metadata": {},
   "outputs": [],
   "source": [
    "#Creacion de clase DateTime\n",
    "\n",
    "class DateTimeClass(object):\n",
    "    \n",
    "    def __init__(self, dicti):\n",
    "        print(dicti)\n",
    "        self.year = dicti['year']\n",
    "        self.month = dicti['month']\n",
    "        self.day = dicti['day']\n",
    "        \n",
    "    def getdata(self):\n",
    "        return \"{}/{}/{}\".format(self.day, self.month, self.year)"
   ]
  },
  {
   "cell_type": "code",
   "execution_count": 103,
   "id": "ec91b4be",
   "metadata": {},
   "outputs": [],
   "source": [
    "#Creacion de clase TimeSpan\n",
    "\n",
    "class TimeSpanClass(object):\n",
    "    \n",
    "    millisPerHour = 3600000\n",
    "    millisPerMinute = 60000\n",
    "    millisPerSecond = 1000\n",
    "    secondsPerMinute = 60\n",
    "    minutesPerHour = 60\n",
    "    \n",
    "    def __init__(self, dicti):\n",
    "        print(dicti)\n",
    "        self.hours = dicti['hours']\n",
    "        self.minutes = dicti['minutes']\n",
    "        self.seconds = dicti['seconds']\n",
    "        \n",
    "    def getdata(self):\n",
    "        return \"{}:{}:{}\".format(self.hours, self.minutes, self.seconds)\n",
    "    \n",
    "    def TotalMilliseconds(self):\n",
    "        return hours * millisPerHour + minutes * millisPerMinute + seconds * millisPerSecond;\n",
    "\n",
    "    def TotalMinutes(self):\n",
    "        return hours * minutesPerHour + minutes + seconds / secondsPerMinute;\n",
    "        \n",
    "    def TotalSeconds(self):\n",
    "        return hours * minutesPerHour * secondsPerMinute + minutes * secondsPerMinute;\n"
   ]
  },
  {
   "cell_type": "markdown",
   "id": "f8d0cf85",
   "metadata": {},
   "source": [
    "## Clase de testeo\n",
    "\n",
    "abriendo el archivo SOToFile/testing/xd.txt"
   ]
  },
  {
   "cell_type": "code",
   "execution_count": 104,
   "id": "c4e6f9c9",
   "metadata": {},
   "outputs": [],
   "source": [
    "import json\n",
    "\n",
    "class TestingClassSO(object):\n",
    "\n",
    "    #enum TestingEnum\n",
    "    #{\n",
    "    #    largo,\n",
    "    #    chico,\n",
    "    #    xd\n",
    "    #}\n",
    "    \n",
    "    def __init__(self):\n",
    "        testingEnum = \"\"\n",
    "        testingfloat = 0\n",
    "        testingDateTimeClass = {}\n",
    "        testingTimeSpanClass = {}\n",
    "\n",
    "    def from_json_file(self):\n",
    "        with open(\"SOToFile/testing/xd.txt\", \"r\") as file:\n",
    "            content = file.read()\n",
    "            JsonFormat = json.loads(content)\n",
    "            print(JsonFormat)\n",
    "            print(type(JsonFormat))\n",
    "            keys = JsonFormat.keys()\n",
    "            print(keys)\n",
    "            self.__PopulateClass(JsonFormat)\n",
    "            \n",
    "    def from_json_data_to_Dict(self, data):\n",
    "        content = data\n",
    "        JsonFormat = json.loads(content)\n",
    "        print(JsonFormat)\n",
    "        print(type(JsonFormat))\n",
    "        keys = JsonFormat.keys()\n",
    "        print(keys)\n",
    "        return JsonFormat\n",
    "        #self.__PopulateClass(JsonFormat)\n",
    "    \n",
    "    def __PopulateClass(self, JsonDict:dict):\n",
    "        self.testingEnum = JsonDict['testingEnum']\n",
    "        self.testingfloat = JsonDict['testingfloat']\n",
    "        #para clases:\n",
    "        self.testingDateTimeClass = DateTimeClass(JsonDict['testingDateTimeClass'])\n",
    "        self.testingTimeSpanClass = TimeSpanClass(JsonDict['testingTimeSpanClass'])\n",
    "        print('testing value: testingDateTimeClass=')\n",
    "        print(self.testingDateTimeClass.getdata())\n",
    "        print('testing value: testingTimeSpanClass=')\n",
    "        print(self.testingTimeSpanClass.getdata())"
   ]
  },
  {
   "cell_type": "code",
   "execution_count": 105,
   "id": "be30b682",
   "metadata": {},
   "outputs": [
    {
     "name": "stdout",
     "output_type": "stream",
     "text": [
      "{'testingEnum': 'largo', 'testingfloat': -0.1, 'testingDateTimeClass': {'year': 0, 'month': 69, 'day': 0}, 'testingTimeSpanClass': {'hours': 0, 'minutes': 549, 'seconds': 0, 'TotalMilliseconds': 32940000.0, 'TotalMinutes': 549.0, 'TotalSeconds': 32940.0}, 'name': 'Test1', 'hideFlags': 0}\n",
      "<class 'dict'>\n",
      "dict_keys(['testingEnum', 'testingfloat', 'testingDateTimeClass', 'testingTimeSpanClass', 'name', 'hideFlags'])\n",
      "{'year': 0, 'month': 69, 'day': 0}\n",
      "{'hours': 0, 'minutes': 549, 'seconds': 0, 'TotalMilliseconds': 32940000.0, 'TotalMinutes': 549.0, 'TotalSeconds': 32940.0}\n",
      "testing value: testingDateTimeClass=\n",
      "0/69/0\n",
      "testing value: testingTimeSpanClass=\n",
      "0:549:0\n"
     ]
    }
   ],
   "source": [
    "test = TestingClassSO()\n",
    "test.from_json_file()"
   ]
  },
  {
   "cell_type": "code",
   "execution_count": null,
   "id": "25a40d14",
   "metadata": {},
   "outputs": [],
   "source": []
  }
 ],
 "metadata": {
  "kernelspec": {
   "display_name": "Python 3 (ipykernel)",
   "language": "python",
   "name": "python3"
  },
  "language_info": {
   "codemirror_mode": {
    "name": "ipython",
    "version": 3
   },
   "file_extension": ".py",
   "mimetype": "text/x-python",
   "name": "python",
   "nbconvert_exporter": "python",
   "pygments_lexer": "ipython3",
   "version": "3.10.9"
  }
 },
 "nbformat": 4,
 "nbformat_minor": 5
}
